{
 "cells": [
  {
   "cell_type": "code",
   "execution_count": 2,
   "id": "99b4bb91-019a-49f6-a43c-6b8da3955a8e",
   "metadata": {},
   "outputs": [],
   "source": [
    "from bs4 import BeautifulSoup\n",
    "import requests\n",
    "import time"
   ]
  },
  {
   "cell_type": "code",
   "execution_count": 3,
   "id": "9074d7c5-e953-43b4-9012-34841c8533a5",
   "metadata": {},
   "outputs": [],
   "source": [
    "url1 = \"https://www.google.com/finance/quote/INFY:NSE\"\n",
    "\n",
    "res = requests.get(url1)"
   ]
  },
  {
   "cell_type": "code",
   "execution_count": 4,
   "id": "7b12a1f9-adb4-4264-944d-d3eaf3e14319",
   "metadata": {},
   "outputs": [
    {
     "data": {
      "text/plain": [
       "<Response [200]>"
      ]
     },
     "execution_count": 4,
     "metadata": {},
     "output_type": "execute_result"
    }
   ],
   "source": [
    "res"
   ]
  },
  {
   "cell_type": "code",
   "execution_count": 5,
   "id": "33ef2d21-8114-494a-b33a-0a10c8673d54",
   "metadata": {},
   "outputs": [],
   "source": [
    "soup = BeautifulSoup(res.text, 'html.parser')"
   ]
  },
  {
   "cell_type": "code",
   "execution_count": 7,
   "id": "70564797-92ea-4284-9b2f-d342af3e9c57",
   "metadata": {},
   "outputs": [
    {
     "data": {
      "text/plain": [
       "'₹1,665.25'"
      ]
     },
     "execution_count": 7,
     "metadata": {},
     "output_type": "execute_result"
    }
   ],
   "source": [
    "class1=\"YMlKec fxKbKc\"\n",
    "\n",
    "soup.find(class_=class1).text"
   ]
  },
  {
   "cell_type": "code",
   "execution_count": 8,
   "id": "ecc9c687-df18-4cd2-8e0c-595f046cd8b2",
   "metadata": {},
   "outputs": [
    {
     "data": {
      "text/plain": [
       "'1,665.25'"
      ]
     },
     "execution_count": 8,
     "metadata": {},
     "output_type": "execute_result"
    }
   ],
   "source": [
    "# remove ₹ sambol\n",
    "\n",
    "soup.find(class_=class1).text.strip()[1:]"
   ]
  },
  {
   "cell_type": "code",
   "execution_count": 9,
   "id": "d38d996a-fb2a-476e-a80b-a4de97163541",
   "metadata": {},
   "outputs": [
    {
     "data": {
      "text/plain": [
       "'1665.25'"
      ]
     },
     "execution_count": 9,
     "metadata": {},
     "output_type": "execute_result"
    }
   ],
   "source": [
    "# remove ,\n",
    "\n",
    "soup.find(class_=class1).text.strip()[1:].replace(\",\", \"\")"
   ]
  },
  {
   "cell_type": "code",
   "execution_count": 11,
   "id": "4d8ae7eb-241d-49d5-9b72-cc9cf0509e58",
   "metadata": {},
   "outputs": [
    {
     "data": {
      "text/plain": [
       "1665.25"
      ]
     },
     "execution_count": 11,
     "metadata": {},
     "output_type": "execute_result"
    }
   ],
   "source": [
    "# convert to float\n",
    "\n",
    "price= float(soup.find(class_=class1).text.strip()[1:].replace(\",\", \"\"))\n",
    "\n",
    "price"
   ]
  },
  {
   "cell_type": "code",
   "execution_count": null,
   "id": "194464ec-3957-4e2f-b544-2f62c91b8f8e",
   "metadata": {},
   "outputs": [],
   "source": []
  },
  {
   "cell_type": "code",
   "execution_count": 21,
   "id": "50d4d814-5fcc-4bdc-b5e4-e03dd6efede6",
   "metadata": {},
   "outputs": [
    {
     "name": "stdout",
     "output_type": "stream",
     "text": [
      "1666.55\n",
      "1666.1\n",
      "1666.1\n",
      "1666.1\n",
      "1666.05\n",
      "1666.05\n",
      "1666.05\n",
      "1665.5\n",
      "1665.5\n",
      "1665.5\n",
      "1665.6\n",
      "1665.6\n",
      "1665.7\n"
     ]
    }
   ],
   "source": [
    "\n",
    "# url1 = \"https://www.google.com/finance/quote/INFY:NSE\"\n",
    "\n",
    "ticker = 'INFY'\n",
    "# ticker = 'ZOMATO'\n",
    "exchange = 'NSE'\n",
    "curr_time = time.time()\n",
    "while True:\n",
    "    if time.time() > curr_time + 60:\n",
    "        break\n",
    "    url1 = f\"https://www.google.com/finance/quote/{ticker}:{exchange}\"\n",
    "    res = requests.get(url1)\n",
    "    soup = BeautifulSoup(res.text, 'html.parser')\n",
    "    class1=\"YMlKec fxKbKc\"\n",
    "    price= float(soup.find(class_=class1).text.strip()[1:].replace(\",\", \"\"))\n",
    "    print(price)\n",
    "    time.sleep(4)"
   ]
  },
  {
   "cell_type": "code",
   "execution_count": null,
   "id": "7ac20421-c277-4452-9d33-0611a3147de1",
   "metadata": {},
   "outputs": [],
   "source": []
  }
 ],
 "metadata": {
  "kernelspec": {
   "display_name": "Python 3 (ipykernel)",
   "language": "python",
   "name": "python3"
  },
  "language_info": {
   "codemirror_mode": {
    "name": "ipython",
    "version": 3
   },
   "file_extension": ".py",
   "mimetype": "text/x-python",
   "name": "python",
   "nbconvert_exporter": "python",
   "pygments_lexer": "ipython3",
   "version": "3.10.13"
  }
 },
 "nbformat": 4,
 "nbformat_minor": 5
}
